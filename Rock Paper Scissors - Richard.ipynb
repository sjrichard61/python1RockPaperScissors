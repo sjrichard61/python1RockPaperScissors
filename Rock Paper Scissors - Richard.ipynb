{
 "cells": [
  {
   "cell_type": "code",
   "execution_count": 75,
   "id": "8536af01-8cd7-447e-98f0-e8fe1864caac",
   "metadata": {},
   "outputs": [
    {
     "name": "stdin",
     "output_type": "stream",
     "text": [
      "Enter your play choice: p\n"
     ]
    },
    {
     "name": "stdout",
     "output_type": "stream",
     "text": [
      "Error. Valid play choices are \"rock,\" \"paper,\" or \"scissors.\"\n"
     ]
    },
    {
     "name": "stdin",
     "output_type": "stream",
     "text": [
      "Enter your play choice: paper\n"
     ]
    },
    {
     "name": "stdout",
     "output_type": "stream",
     "text": [
      "Your choice was paper and the computer's choice was rock\n",
      "You win!\n"
     ]
    },
    {
     "name": "stdin",
     "output_type": "stream",
     "text": [
      "Would you like to play again (yes or no)? yes\n",
      "Enter your play choice: rock\n"
     ]
    },
    {
     "name": "stdout",
     "output_type": "stream",
     "text": [
      "Your choice was rock and the computer's choice was rock\n",
      "It's a draw!\n"
     ]
    },
    {
     "name": "stdin",
     "output_type": "stream",
     "text": [
      "Would you like to play again (yes or no)? p\n",
      "Would you like to play again (yes or no)? s\n",
      "Would you like to play again (yes or no)? no\n"
     ]
    },
    {
     "name": "stdout",
     "output_type": "stream",
     "text": [
      "Thanks for playing!\n"
     ]
    }
   ],
   "source": [
    "#init\n",
    "import random as rand\n",
    "choices = (\"rock\", \"paper\", \"scissors\")\n",
    "global choices\n",
    "\n",
    "def get_choice() :\n",
    "    #get user choice\n",
    "    test = True\n",
    "    while test :\n",
    "        user_choice = input(f\"Enter your play choice:\").lower()\n",
    "        #error check user input\n",
    "        if choices.count(user_choice) == 0 :\n",
    "            print(f\"Error. Valid play choices are \\\"rock,\\\" \\\"paper,\\\" or \\\"scissors.\\\"\")\n",
    "        else :\n",
    "            test = False\n",
    "    return user_choice\n",
    "\n",
    "def play(user_choice) :\n",
    "    #randomize a computer choice\n",
    "    computer_choice = choices[rand.randint(0,2)]\n",
    "    #check and print result\n",
    "    print(f\"Your choice was {user_choice} and the computer's choice was {computer_choice}\")\n",
    "    \n",
    "    if user_choice == computer_choice :\n",
    "        print(f\"It's a draw!\")\n",
    "    elif user_choice == \"rock\" :\n",
    "        if computer_choice == \"scissors\" :\n",
    "            print(f\"You win!\")\n",
    "        else :\n",
    "            print(\"You lose.\") \n",
    "    elif user_choice == \"paper\" :\n",
    "          if computer_choice == \"rock\" :\n",
    "            print(f\"You win!\")\n",
    "          else :\n",
    "            print(\"You lose.\")\n",
    "    else :  #user_choice is scissors\n",
    "          if computer_choice == \"paper\" :\n",
    "            print(f\"You win!\")\n",
    "          else :\n",
    "            print(\"You lose.\")\n",
    "    return\n",
    "\n",
    "again = \"yes\"\n",
    "test = True\n",
    "while test :\n",
    "    user_choice = get_choice()\n",
    "    play(user_choice)\n",
    "    again = \"yes\"\n",
    "    while again == \"yes\" :\n",
    "        again = input(\"Would you like to play again (yes or no)?\").lower()\n",
    "        if again == \"no\" :\n",
    "            print(f\"Thanks for playing!\")\n",
    "            test = False\n",
    "        elif again == \"yes\" :\n",
    "            again = \"no\"\n",
    "        else :\n",
    "            again = \"yes\"            \n",
    "       "
   ]
  },
  {
   "cell_type": "raw",
   "id": "dabb2c03-dd83-47ec-8a4a-e2ce58c8454e",
   "metadata": {},
   "source": []
  },
  {
   "cell_type": "code",
   "execution_count": null,
   "id": "6218fd94-57ef-4d49-9b81-160b8b4b1bf0",
   "metadata": {},
   "outputs": [],
   "source": []
  }
 ],
 "metadata": {
  "kernelspec": {
   "display_name": "Python 3 (ipykernel)",
   "language": "python",
   "name": "python3"
  },
  "language_info": {
   "codemirror_mode": {
    "name": "ipython",
    "version": 3
   },
   "file_extension": ".py",
   "mimetype": "text/x-python",
   "name": "python",
   "nbconvert_exporter": "python",
   "pygments_lexer": "ipython3",
   "version": "3.11.7"
  }
 },
 "nbformat": 4,
 "nbformat_minor": 5
}
