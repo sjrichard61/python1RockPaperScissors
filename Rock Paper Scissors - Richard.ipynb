{
 "cells": [
  {
   "cell_type": "code",
   "execution_count": 38,
   "id": "8536af01-8cd7-447e-98f0-e8fe1864caac",
   "metadata": {},
   "outputs": [
    {
     "name": "stdin",
     "output_type": "stream",
     "text": [
      "Enter your play choice: p\n"
     ]
    },
    {
     "name": "stdout",
     "output_type": "stream",
     "text": [
      "Error. Valid play choices are \"rock,\" \"paper,\" or \"scissors.\"\n"
     ]
    },
    {
     "name": "stdin",
     "output_type": "stream",
     "text": [
      "Enter your play choice: p\n"
     ]
    },
    {
     "name": "stdout",
     "output_type": "stream",
     "text": [
      "Error. Valid play choices are \"rock,\" \"paper,\" or \"scissors.\"\n"
     ]
    },
    {
     "name": "stdin",
     "output_type": "stream",
     "text": [
      "Enter your play choice: lklk\n"
     ]
    },
    {
     "name": "stdout",
     "output_type": "stream",
     "text": [
      "Error. Valid play choices are \"rock,\" \"paper,\" or \"scissors.\"\n"
     ]
    },
    {
     "name": "stdin",
     "output_type": "stream",
     "text": [
      "Enter your play choice: paper\n"
     ]
    },
    {
     "name": "stdout",
     "output_type": "stream",
     "text": [
      "Your choice was paper and the computer's choice was paper\n",
      "It's a draw!\n"
     ]
    },
    {
     "name": "stdin",
     "output_type": "stream",
     "text": [
      "Would you like to play again (yes or no)? yes\n",
      "Enter your play choice: ro\n"
     ]
    },
    {
     "name": "stdout",
     "output_type": "stream",
     "text": [
      "Error. Valid play choices are \"rock,\" \"paper,\" or \"scissors.\"\n"
     ]
    },
    {
     "name": "stdin",
     "output_type": "stream",
     "text": [
      "Enter your play choice: rock\n"
     ]
    },
    {
     "name": "stdout",
     "output_type": "stream",
     "text": [
      "Your choice was rock and the computer's choice was rock\n",
      "It's a draw!\n"
     ]
    },
    {
     "name": "stdin",
     "output_type": "stream",
     "text": [
      "Would you like to play again (yes or no)? no\n"
     ]
    },
    {
     "name": "stdout",
     "output_type": "stream",
     "text": [
      "Thanks for playing!\n"
     ]
    }
   ],
   "source": [
    "#import the randomize library so we can use the functions\n",
    "import random as rand\n",
    "\n",
    "#initialize a tuple of the game play choices and make it global\n",
    "choices = (\"rock\", \"paper\", \"scissors\") #\n",
    "global choices\n",
    "\n",
    "#create a function to get user input, with a loop to keep playing if they want to\n",
    "def get_choice() :\n",
    "    #get user choice\n",
    "    test = [\"test\"]\n",
    "    for i in test :\n",
    "        user_choice = input(f\"Enter your play choice:\").lower()\n",
    "        #error check user input\n",
    "        if choices.count(user_choice) == 0 :\n",
    "            print(f\"Error. Valid play choices are \\\"rock,\\\" \\\"paper,\\\" or \\\"scissors.\\\"\")\n",
    "            test.append(\"again\")\n",
    "        else :\n",
    "            test = False\n",
    "    return user_choice\n",
    "\n",
    "#create a function to play the game - create a random computer play choice and check it against the user play choice and print the result\n",
    "def play(user_choice) :\n",
    "    #randomize a computer choice by refernceing a random position in the tuple \"choices\"\n",
    "    computer_choice = choices[rand.randint(0,2)]\n",
    "    #check and print result\n",
    "    print(f\"Your choice was {user_choice} and the computer's choice was {computer_choice}\")\n",
    "\n",
    "#one way to check winner is:\n",
    "#    if user_choice == computer_choice :\n",
    "#        print(f\"It's a draw!\")\n",
    "#    elif user_choice == \"rock\" :\n",
    "#        if computer_choice == \"scissors\" :\n",
    "#            print(f\"You win!\")\n",
    "#        else :\n",
    "#            print(\"You lose.\") \n",
    "#    elif user_choice == \"paper\" :\n",
    "#          if computer_choice == \"rock\" :\n",
    "#            print(f\"You win!\")\n",
    "#          else :\n",
    "#            print(\"You lose.\")\n",
    "#    else :  #user_choice is scissors\n",
    "#          if computer_choice == \"paper\" :\n",
    "#            print(f\"You win!\")\n",
    "#          else :\n",
    "#            print(\"You lose.\")\n",
    "#    return\n",
    "\n",
    "#alternatively:\n",
    "#    if user_choice == computer_choice :\n",
    "#        print(f\"It's a draw!\")\n",
    "#    elif (user_choice == \"rock\" and computer_choice == \"scissors\") or (user_choice == \"paper\" and computer_choice == \"rock\") or (user_choice == \"scissors\" and computer_choice == \"paper\"):\n",
    "#        print(f\"You win!\")\n",
    "#    else :\n",
    "#        print(\"You lose.\")\n",
    "#    return\n",
    "\n",
    "#alternatively - most efficient and uses the list/tuple properties\n",
    "    if choices.index(user_choice) == choices.index(computer_choice) :\n",
    "        print(f\"It's a draw!\")\n",
    "    elif computer_choice == choices[choices.index(user_choice)-1] :\n",
    "        print(f\"You win!\")\n",
    "    else :\n",
    "        print(\"You lose.\")\n",
    "    return\n",
    "    \n",
    "#make it all happen by running a loop to execute the game with another loop inside to check if the player wants to play again\n",
    "repeat = [\"yes\"]\n",
    "valid_ans = (\"yes\", \"no\")\n",
    "for a in repeat :\n",
    "    user_choice = get_choice()\n",
    "    play(user_choice)\n",
    "    ans = [\"whatever\"]\n",
    "    for b in ans :\n",
    "        again = input(\"Would you like to play again (yes or no)?\").lower()\n",
    "        if again == \"no\" :\n",
    "            print(f\"Thanks for playing!\")\n",
    "        else :\n",
    "            if valid_ans.count(again.lower()) == 0 :\n",
    "                print(f\"Please answer \\\"yes\\\" or \\\"no\\\".\")\n",
    "                ans.append(\"yes\")\n",
    "                repeat.pop(0)\n",
    "            repeat.append(\"yes\")"
   ]
  },
  {
   "cell_type": "code",
   "execution_count": null,
   "id": "7fe3cf70-00a4-46d6-bcbc-a0bd3b0c34b7",
   "metadata": {},
   "outputs": [],
   "source": []
  },
  {
   "cell_type": "code",
   "execution_count": null,
   "id": "6218fd94-57ef-4d49-9b81-160b8b4b1bf0",
   "metadata": {},
   "outputs": [],
   "source": []
  }
 ],
 "metadata": {
  "kernelspec": {
   "display_name": "Python 3 (ipykernel)",
   "language": "python",
   "name": "python3"
  },
  "language_info": {
   "codemirror_mode": {
    "name": "ipython",
    "version": 3
   },
   "file_extension": ".py",
   "mimetype": "text/x-python",
   "name": "python",
   "nbconvert_exporter": "python",
   "pygments_lexer": "ipython3",
   "version": "3.11.7"
  }
 },
 "nbformat": 4,
 "nbformat_minor": 5
}
